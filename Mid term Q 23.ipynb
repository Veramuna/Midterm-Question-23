{
 "cells": [
  {
   "cell_type": "markdown",
   "id": "d1065236-073c-4a32-be8b-a5d07850b173",
   "metadata": {},
   "source": [
    "# Mid term Q23"
   ]
  },
  {
   "cell_type": "code",
   "execution_count": 33,
   "id": "26f0cb6a-44db-44ca-909b-f252d58aefa4",
   "metadata": {},
   "outputs": [
    {
     "name": "stdout",
     "output_type": "stream",
     "text": [
      "****\n",
      " ***\n",
      "  **\n",
      "   *\n",
      "   *\n",
      "  **\n",
      " ***\n",
      "****\n"
     ]
    }
   ],
   "source": [
    "def tough(indent, stars):\n",
    "    if stars > 0:\n",
    "        \n",
    "        print(\" \" * indent + \"*\" * stars)\n",
    "        \n",
    "        \n",
    "        tough(indent + 1, stars - 1)\n",
    "        \n",
    "       \n",
    "        print(\" \" * indent + \"*\" * stars)\n",
    "\n",
    "\n",
    "tough(0, 4)  "
   ]
  },
  {
   "cell_type": "code",
   "execution_count": null,
   "id": "fcb809a7-2314-4905-b69e-c5d297757ff6",
   "metadata": {},
   "outputs": [],
   "source": []
  }
 ],
 "metadata": {
  "kernelspec": {
   "display_name": "Python 3 (ipykernel)",
   "language": "python",
   "name": "python3"
  },
  "language_info": {
   "codemirror_mode": {
    "name": "ipython",
    "version": 3
   },
   "file_extension": ".py",
   "mimetype": "text/x-python",
   "name": "python",
   "nbconvert_exporter": "python",
   "pygments_lexer": "ipython3",
   "version": "3.12.4"
  }
 },
 "nbformat": 4,
 "nbformat_minor": 5
}
